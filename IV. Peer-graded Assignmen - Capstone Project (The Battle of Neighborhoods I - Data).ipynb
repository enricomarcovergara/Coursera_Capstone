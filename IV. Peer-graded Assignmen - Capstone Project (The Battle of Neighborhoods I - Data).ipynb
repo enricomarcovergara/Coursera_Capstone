{
 "cells": [
  {
   "cell_type": "markdown",
   "metadata": {},
   "source": [
    "# Capstone Project - The Battle of the Neighborhoods\n",
    "###  Applied Data Science Capstone by IBM/Coursera\n",
    "___\n",
    "### Vergara, Enrico Marco\n",
    "##### December 23, 2019\n",
    "___\n",
    "### Table of Contents\n",
    "  1. [Introduction](#intro)\n",
    "    1. [Background Information](#background)\n",
    "    2. [Business Problem](#problem)\n",
    "    3. [Target Interest](#interest)\n",
    "  2. [Data Definition](#data)"
   ]
  },
  {
   "cell_type": "markdown",
   "metadata": {},
   "source": [
    "## Data Definition <a class=\"data\" id=\"intro\"></a>\n",
    "___\n",
    "\n",
    "The dataset to be used came from Kaggle, [Average SAT Scores for NYC Public Schools](https://www.kaggle.com/nycopendata/high-schools).  \n",
    "\n",
    "This dataset consists of a row for every accredited high school in New York City with the following attributes:\n",
    "  * School ID: The unique id of the school\n",
    "  * School Name: The name of the school\n",
    "  * Borough: Common name for NYC borough\n",
    "  * Building Code: The unique identifier of the building\n",
    "  * Street Address: The specific address\n",
    "  * City: The city where school is located\n",
    "  * State: NYC \n",
    "  * Zip Code: The address zipcode\n",
    "  * Latitude: The latitude of the locaton\n",
    "  * Longitude: The longitude of the location\n",
    "  * Phone Number: The school's phone number\n",
    "  * Start Time: Start of classes\n",
    "  * End Time: End of classes\n",
    "  * Student Enrollment: No. of enrollment for the school year\n",
    "  * Percent White: Percent of white from the total population\n",
    "  * Percent Black: Percent of black from the total population\n",
    "  * Percent Hispanic: Percent of hispanic from the total population\n",
    "  * Percent Asian: Percent of asian from the total population\n",
    "  * Average Score (SAT Math): Average score in Math\n",
    "  * Average Score (SAT Reading): Average score in Reading\n",
    "  * Average Score (SAT Writing): Average score in Writing\n",
    "  * Percent Tested: Percent of the sample tested from the whole population\n",
    "  \n",
    "This data will be used to describe the different goals of the project such as which borough they are to select with the highest satisfactory performance on SAT and check the public high school in that area they can consider to be the next home of their children.\n",
    "  \n",
    "In order to determine  the most common venues for each neighborhood on the most desired boroughs that will certainly affect the life of the students, the final dataset will be used to fetch data using the Foursquare API and then using k-means clustering algorithm to cluster similar neighborhoods.   "
   ]
  }
 ],
 "metadata": {
  "kernelspec": {
   "display_name": "Python 3",
   "language": "python",
   "name": "python3"
  },
  "language_info": {
   "codemirror_mode": {
    "name": "ipython",
    "version": 3
   },
   "file_extension": ".py",
   "mimetype": "text/x-python",
   "name": "python",
   "nbconvert_exporter": "python",
   "pygments_lexer": "ipython3",
   "version": "3.7.1"
  }
 },
 "nbformat": 4,
 "nbformat_minor": 2
}
