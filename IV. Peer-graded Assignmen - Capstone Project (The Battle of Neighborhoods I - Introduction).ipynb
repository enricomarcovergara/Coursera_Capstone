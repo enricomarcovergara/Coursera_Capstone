{
 "cells": [
  {
   "cell_type": "markdown",
   "metadata": {},
   "source": [
    "# Capstone Project - The Battle of the Neighborhoods\n",
    "###  Applied Data Science Capstone by IBM/Coursera\n",
    "___\n",
    "### Vergara, Enrico Marco\n",
    "##### December 23, 2019\n",
    "___\n",
    "### Table of Contents\n",
    "  1. [Introduction](#intro)\n",
    "    1. [Background Information](#background)\n",
    "    2. [Business Problem](#problem)\n",
    "    3. [Target Interest](#interest)"
   ]
  },
  {
   "cell_type": "markdown",
   "metadata": {},
   "source": [
    "## Introduction <a class=\"anchor\" id=\"intro\"></a>\n",
    "___\n",
    "\n",
    "### A. Background Information <a class=\"anchor\" id=\"background\"></a>\n",
    "**Scholastic Assessment Test (SAT)** is a standardized examination usually taken by high school juniors and seniors used for college admissions in United States. This test is conducted in order to measure literacy, numeracy and writing skills which are three important components needed for academic success in college. In addition, SAT is said to be an assessment  on how well the students analyze and solve problems which are skills learned in school that is vital in college. However, the test is administered under time constraint in order to help produce a range of scores.  \n",
    "  \n",
    "With future as the biggest consequence of this assessment specially for incoming college students, it is important for parents to consider which accredited high school would help students achieve the needed skills to be learned as preparation for college. Preferably, parents want to know which public high school's students received the highest overall SAT score and which borough has the highest performing schools. This will serve as a guide for them in order to select the best school for their children in the hope of a bright future.  \n",
    "### B. Business Problem <a class=\"anchor\" id=\"problem\"></a>\n",
    "The average SAT scores for NYC public schools dataset from Kaggle provides a rich data compilation of average scores on each SAT test section for the 2014-2015 school year.  \n",
    "  \n",
    "This project aims to help parents select which area or borough in NYC is recommended for high performance on SAT, explore the neighborhoods of that borough to find the most venues in each neighborhood that may affect the life of the students and cluster the neighborhoods using k-mean clustering.  \n",
    "### C. Target Interest <a class=\"anchor\" id=\"interest\"></a>\n",
    "The project is inteded for parents who are considering which borough they are to select with the highest satisfactory performance on SAT. In addition, check the public high school in that area they can consider to be the next home of their children and what are the most common venues on that boroughs that will certainly affect the life of the students."
   ]
  }
 ],
 "metadata": {
  "kernelspec": {
   "display_name": "Python 3",
   "language": "python",
   "name": "python3"
  },
  "language_info": {
   "codemirror_mode": {
    "name": "ipython",
    "version": 3
   },
   "file_extension": ".py",
   "mimetype": "text/x-python",
   "name": "python",
   "nbconvert_exporter": "python",
   "pygments_lexer": "ipython3",
   "version": "3.7.1"
  }
 },
 "nbformat": 4,
 "nbformat_minor": 2
}
